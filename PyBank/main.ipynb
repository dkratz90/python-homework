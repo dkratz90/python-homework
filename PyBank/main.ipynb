{
 "cells": [
  {
   "cell_type": "code",
   "execution_count": 39,
   "metadata": {},
   "outputs": [],
   "source": [
    "#Importing profit/loss data from CSV file in this local path and assinging it to a variable as a list\n",
    "\n",
    "import csv\n",
    "profit_loss_data = []\n",
    "with open(\"/Users/davidkratzer/documents/Fintech/Challenges/Challenge2/Downld/Starter_Code/PyBank/Resources/budget_data.csv\", 'r') as file:\n",
    "    csvreader = csv.reader(file)\n",
    "    header = next(csvreader)\n",
    "    for row in csvreader:\n",
    "        profit_loss_data.append(row)\n"
   ]
  },
  {
   "cell_type": "code",
   "execution_count": 40,
   "metadata": {},
   "outputs": [],
   "source": [
    "#Finding the number of months in the data set and setting it to variable\n",
    "\n",
    "number_of_months = (len(profit_loss_data))\n"
   ]
  },
  {
   "cell_type": "code",
   "execution_count": 41,
   "metadata": {},
   "outputs": [],
   "source": [
    "#Finding the net total profit/loss over the period from January 2010 through February 2017 and setting it to variable\n",
    "\n",
    "total_sum = sum(int(item[1]) for item in profit_loss_data)\n",
    "\n"
   ]
  },
  {
   "cell_type": "code",
   "execution_count": 42,
   "metadata": {},
   "outputs": [],
   "source": [
    "#Calculating the average change in Profit/Losses and setting it to variable \n",
    "\n",
    "changes = [int(profit_loss_data[i][1]) - int(profit_loss_data[i-1][1]) for i in range(1, len(profit_loss_data))]\n",
    "\n",
    "average_change = sum(changes) / len(changes)\n",
    "\n",
    "average_change_rounded = round(average_change,2)\n",
    "\n"
   ]
  },
  {
   "cell_type": "code",
   "execution_count": 43,
   "metadata": {},
   "outputs": [],
   "source": [
    "#Calculating the max profit and setting variable for the date and ammount\n",
    "\n",
    "max_increase = 0\n",
    "max_increase_date = \"\"\n",
    "for i in range(1, len(profit_loss_data)):\n",
    "    increase = int(profit_loss_data[i][1]) - int(profit_loss_data[i - 1][1])\n",
    "    if increase > max_increase:\n",
    "        max_increase = increase\n",
    "        max_increase_date = profit_loss_data[i][0]\n",
    "\n"
   ]
  },
  {
   "cell_type": "code",
   "execution_count": 44,
   "metadata": {},
   "outputs": [],
   "source": [
    "#Calculating the max loss and setting variable for the date and ammount\n",
    "\n",
    "max_decrease = 0\n",
    "max_decrease_date = \"\"\n",
    "\n",
    "for i in range(1, len(profit_loss_data)):\n",
    "    decrease = int(profit_loss_data[i][1]) - int(profit_loss_data[i-1][1])\n",
    "    if decrease < max_decrease:\n",
    "        max_decrease = decrease\n",
    "        max_decrease_date = profit_loss_data[i][0]\n"
   ]
  },
  {
   "cell_type": "code",
   "execution_count": 45,
   "metadata": {},
   "outputs": [
    {
     "name": "stdout",
     "output_type": "stream",
     "text": [
      "Financial Analysis\n",
      "----------------------------\n",
      "Total Months:  86\n",
      "Total: $38382578\n",
      "Average Change: $-2315.12\n",
      "Greatest Increase in Profits: Feb-2012 ($1926159)\n",
      "Greatest Decrease in Profits: Sep-2013 ($-2196167)\n"
     ]
    }
   ],
   "source": [
    "#Printing final output \n",
    "\n",
    "print(\"Financial Analysis\")\n",
    "print(\"----------------------------\")\n",
    "print(\"Total Months: \",number_of_months)\n",
    "print(\"Total: $\" + str(total_sum))\n",
    "print(\"Average Change: $\" + str(average_change_rounded))\n",
    "print(\"Greatest Increase in Profits: \" + str(max_increase_date) + \" ($\" + str(max_increase) + \")\")\n",
    "print(\"Greatest Decrease in Profits: \" + str(max_decrease_date) + \" ($\" + str(max_decrease) + \")\")"
   ]
  },
  {
   "cell_type": "code",
   "execution_count": 46,
   "metadata": {},
   "outputs": [
    {
     "name": "stdout",
     "output_type": "stream",
     "text": [
      "Financial Analysis\n",
      "----------------------------\n",
      "Total Months: 86\n",
      "Total: $38382578\n",
      "Average Change: $-2315.12\n",
      "Greatest Increase in Profits: Feb-2012 ($1926159)\n",
      "Greatest Decrease in Profits: Sep-2013 ($-2196167)\n",
      "Results have been exported to 'financial_analysis.txt'\n"
     ]
    }
   ],
   "source": [
    "#Send final output to txt file\n",
    "\n",
    "output = \"\"\"\\\n",
    "Financial Analysis\n",
    "----------------------------\n",
    "Total Months: {}\n",
    "Total: ${}\n",
    "Average Change: ${}\n",
    "Greatest Increase in Profits: {} (${})\n",
    "Greatest Decrease in Profits: {} (${})\"\"\".format(\n",
    "    number_of_months,\n",
    "    total_sum,\n",
    "    average_change_rounded,\n",
    "    max_increase_date,\n",
    "    max_increase,\n",
    "    max_decrease_date,\n",
    "    max_decrease\n",
    ")\n",
    "\n",
    "print(output)\n",
    "with open(\"main.txt\", \"w\") as file:\n",
    "    file.write(output)\n",
    "print(\"Results have been exported to 'financial_analysis.txt'\")"
   ]
  },
  {
   "cell_type": "code",
   "execution_count": null,
   "metadata": {},
   "outputs": [],
   "source": []
  }
 ],
 "metadata": {
  "kernelspec": {
   "display_name": "Python 3",
   "language": "python",
   "name": "python3"
  },
  "language_info": {
   "codemirror_mode": {
    "name": "ipython",
    "version": 3
   },
   "file_extension": ".py",
   "mimetype": "text/x-python",
   "name": "python",
   "nbconvert_exporter": "python",
   "pygments_lexer": "ipython3",
   "version": "3.9.6"
  }
 },
 "nbformat": 4,
 "nbformat_minor": 2
}
